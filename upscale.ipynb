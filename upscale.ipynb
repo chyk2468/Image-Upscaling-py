{
  "cells": [
    {
      "cell_type": "code",
      "execution_count": 1,
      "metadata": {},
      "outputs": [],
      "source": [
        "#https://youtu.be/P509OiaxRsc?list=PL-MLnJ7FA15__xuCj9XEo0Snl-Pn9U5kE"
      ]
    },
    {
      "cell_type": "code",
      "execution_count": 3,
      "metadata": {},
      "outputs": [],
      "source": [
        "import torch\n",
        "from PIL import Image\n",
        "import numpy as np\n",
        "from basicsr.archs.rrdbnet_arch import RRDBNet\n",
        "from realesrgan import RealESRGANer\n",
        "import os\n",
        "import time"
      ]
    },
    {
      "cell_type": "code",
      "execution_count": 4,
      "metadata": {},
      "outputs": [],
      "source": [
        "input_folder = \"inputs\"   # folder with input images\n",
        "output_folder = \"outputs\" # folder where enhanced images will be saved\n",
        "os.makedirs(output_folder, exist_ok=True)"
      ]
    },
    {
      "cell_type": "code",
      "execution_count": 5,
      "metadata": {},
      "outputs": [
        {
          "name": "stdout",
          "output_type": "stream",
          "text": [
            "CUDA available: True\n",
            "Device: NVIDIA GeForce RTX 4050 Laptop GPU\n"
          ]
        }
      ],
      "source": [
        "device = torch.device('cuda' if torch.cuda.is_available() else 'cpu')\n",
        "print(\"CUDA available:\", torch.cuda.is_available())\n",
        "if torch.cuda.is_available():\n",
        "    print(\"Device:\", torch.cuda.get_device_name(0))"
      ]
    },
    {
      "cell_type": "code",
      "execution_count": 6,
      "metadata": {},
      "outputs": [
        {
          "name": "stderr",
          "output_type": "stream",
          "text": [
            "c:\\Users\\91630\\AppData\\Local\\Programs\\Python\\Python310\\lib\\site-packages\\realesrgan\\utils.py:63: FutureWarning: You are using `torch.load` with `weights_only=False` (the current default value), which uses the default pickle module implicitly. It is possible to construct malicious pickle data which will execute arbitrary code during unpickling (See https://github.com/pytorch/pytorch/blob/main/SECURITY.md#untrusted-models for more details). In a future release, the default value for `weights_only` will be flipped to `True`. This limits the functions that could be executed during unpickling. Arbitrary objects will no longer be allowed to be loaded via this mode unless they are explicitly allowlisted by the user via `torch.serialization.add_safe_globals`. We recommend you start setting `weights_only=True` for any use case where you don't have full control of the loaded file. Please open an issue on GitHub for any issues related to this experimental feature.\n",
            "  loadnet = torch.load(model_path, map_location=torch.device('cpu'))\n"
          ]
        }
      ],
      "source": [
        "model = RRDBNet(\n",
        "    num_in_ch=3, num_out_ch=3, num_feat=64,\n",
        "    num_block=23, num_grow_ch=32, scale=4\n",
        ")\n",
        "\n",
        "upsampler = RealESRGANer(\n",
        "    scale=4,\n",
        "    model_path='RealESRGAN_x4plus.pth',\n",
        "    model=model,\n",
        "    tile=0,           # adjust for memory if needed\n",
        "    tile_pad=10,\n",
        "    pre_pad=0,\n",
        "    half=True,        # use FP16 for faster GPU inference\n",
        "    device=device\n",
        ")\n"
      ]
    },
    {
      "cell_type": "code",
      "execution_count": 7,
      "metadata": {},
      "outputs": [
        {
          "name": "stdout",
          "output_type": "stream",
          "text": [
            "Processing: images.jpg\n",
            "✅ Saved: outputs\\images.jpg\n",
            "⏱ Time taken: 0.54 seconds\n",
            "\n",
            "🎉 All images processed successfully!\n"
          ]
        }
      ],
      "source": [
        "for filename in os.listdir(input_folder):\n",
        "    if filename.lower().endswith(('.png', '.jpg', '.jpeg', '.bmp')):\n",
        "        input_path = os.path.join(input_folder, filename)\n",
        "        output_path = os.path.join(output_folder, filename)\n",
        "\n",
        "        print(f\"Processing: {filename}\")\n",
        "        img = Image.open(input_path).convert('RGB')\n",
        "        img_np = np.array(img)\n",
        "\n",
        "        start_time = time.time()\n",
        "        output, _ = upsampler.enhance(img_np, outscale=4)\n",
        "        end_time = time.time()\n",
        "\n",
        "        Image.fromarray(output).save(output_path)\n",
        "        print(f\"✅ Saved: {output_path}\")\n",
        "        print(f\"⏱ Time taken: {end_time - start_time:.2f} seconds\\n\")\n",
        "\n",
        "print(\"🎉 All images processed successfully!\")"
      ]
    }
  ],
  "metadata": {
    "accelerator": "TPU",
    "colab": {
      "gpuType": "V5E1",
      "provenance": []
    },
    "kernelspec": {
      "display_name": "Python 3",
      "language": "python",
      "name": "python3"
    },
    "language_info": {
      "codemirror_mode": {
        "name": "ipython",
        "version": 3
      },
      "file_extension": ".py",
      "mimetype": "text/x-python",
      "name": "python",
      "nbconvert_exporter": "python",
      "pygments_lexer": "ipython3",
      "version": "3.10.11"
    }
  },
  "nbformat": 4,
  "nbformat_minor": 0
}
